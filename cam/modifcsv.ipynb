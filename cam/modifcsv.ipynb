{
 "cells": [
  {
   "cell_type": "code",
   "execution_count": 24,
   "metadata": {},
   "outputs": [],
   "source": [
    "import mediapipe as mp  # Import mediapipe\n",
    "import cv2  # Import opencv\n",
    "import csv\n",
    "import os\n",
    "import numpy as np\n",
    "import sklearn\n",
    "import pandas as pd\n",
    "import csv "
   ]
  },
  {
   "cell_type": "code",
   "execution_count": 25,
   "metadata": {},
   "outputs": [
    {
     "name": "stdout",
     "output_type": "stream",
     "text": [
      "\n",
      "longueur du tableau :  0\n"
     ]
    }
   ],
   "source": [
    "#Création d'un fichier à partir de la liste tableau\n",
    "with open('modif.csv','w',newline='') as f: \n",
    "    tableau=[]                                #Ouverture du fichier CSV en écriture\n",
    "    ecrire=csv.writer(f)                        # préparation à l'écriture\n",
    "    for i in tableau:                           # Pour chaque ligne du tableau...  \n",
    "        ecrire.writerow(i)                # Mettre dans la variable ecrire cette nouvelle ligne      \n",
    "print('',end='\\n')\n",
    "print('longueur du tableau : ',len(tableau))\n",
    "\n"
   ]
  },
  {
   "cell_type": "code",
   "execution_count": 26,
   "metadata": {},
   "outputs": [],
   "source": [
    "#Ajout d'une ligne\n",
    "\n",
    "liste = []\n",
    "with open('modif.csv','w',newline='') as f:       #Ajout d'une ligne dans le fichier csv\n",
    "    ecrire=csv.writer(f) \n",
    "    for i in range(1,76):\n",
    "        for j in range (1,24):\n",
    "            mot='x' + str (i) + '_' + str(j)\n",
    "            liste.append(mot ) \n",
    "        \n",
    "        for j in range (1,24):\n",
    "            mot2='y' + str (i) + '_' + str(j)\n",
    "            liste.append(mot2 ) \n",
    "        \n",
    "        for j in range (1,24):\n",
    "            mot3='z' + str (i) + '_' + str(j)\n",
    "            liste.append(mot3 )\n",
    "        \n",
    "        for j in range (1,24):\n",
    "            mot4='v' + str (i) + '_' + str(j)\n",
    "            liste.append(mot4 )\n",
    "\n",
    "\n",
    "with open('modif.csv','w',newline='') as f:       #Ajout d'une ligne dans le fichier csv\n",
    "    ecrire=csv.writer(f)                             # préparation à l'écriture   \n",
    "    ecrire.writerow(['label', 'class' ]+ liste) \n",
    "\n",
    "#print(liste)\n",
    "\n",
    "    \n"
   ]
  },
  {
   "cell_type": "code",
   "execution_count": 32,
   "metadata": {},
   "outputs": [
    {
     "ename": "IndexError",
     "evalue": "string index out of range",
     "output_type": "error",
     "traceback": [
      "\u001b[0;31m---------------------------------------------------------------------------\u001b[0m",
      "\u001b[0;31mIndexError\u001b[0m                                Traceback (most recent call last)",
      "\u001b[0;32m/var/folders/mw/_8h79zz516g1027m_j1npv2m0000gn/T/ipykernel_45249/3229111894.py\u001b[0m in \u001b[0;36m<module>\u001b[0;34m\u001b[0m\n\u001b[1;32m      6\u001b[0m             \u001b[0;32mwith\u001b[0m \u001b[0mopen\u001b[0m\u001b[0;34m(\u001b[0m\u001b[0;34m'modif.csv'\u001b[0m\u001b[0;34m,\u001b[0m\u001b[0;34m'w'\u001b[0m\u001b[0;34m,\u001b[0m\u001b[0mnewline\u001b[0m\u001b[0;34m=\u001b[0m\u001b[0;34m''\u001b[0m\u001b[0;34m)\u001b[0m \u001b[0;32mas\u001b[0m \u001b[0mf\u001b[0m\u001b[0;34m:\u001b[0m\u001b[0;34m\u001b[0m\u001b[0;34m\u001b[0m\u001b[0m\n\u001b[1;32m      7\u001b[0m                 \u001b[0mecrire\u001b[0m\u001b[0;34m=\u001b[0m\u001b[0mcsv\u001b[0m\u001b[0;34m.\u001b[0m\u001b[0mwriter\u001b[0m\u001b[0;34m(\u001b[0m\u001b[0mf\u001b[0m\u001b[0;34m)\u001b[0m\u001b[0;34m\u001b[0m\u001b[0;34m\u001b[0m\u001b[0m\n\u001b[0;32m----> 8\u001b[0;31m                 \u001b[0mecrire\u001b[0m\u001b[0;34m.\u001b[0m\u001b[0mwriterow\u001b[0m\u001b[0;34m(\u001b[0m\u001b[0mtab\u001b[0m\u001b[0;34m[\u001b[0m\u001b[0mi\u001b[0m\u001b[0;34m]\u001b[0m\u001b[0;34m)\u001b[0m\u001b[0;34m\u001b[0m\u001b[0;34m\u001b[0m\u001b[0m\n\u001b[0m\u001b[1;32m      9\u001b[0m \u001b[0;34m\u001b[0m\u001b[0m\n\u001b[1;32m     10\u001b[0m \u001b[0;34m\u001b[0m\u001b[0m\n",
      "\u001b[0;31mIndexError\u001b[0m: string index out of range"
     ]
    }
   ],
   "source": [
    "with open('coords.csv', newline='') as csvfile:\n",
    "    reader = csv.DictReader(csvfile)\n",
    "    for row in reader:\n",
    "        tab=row['x1']\n",
    "        for i in range(1,len(tab)):\n",
    "            with open('modif.csv','w',newline='') as f:\n",
    "                ecrire=csv.writer(f) \n",
    "                ecrire.writerow(tab[i]) \n",
    "\n",
    "    \n",
    "\n",
    "\n",
    "\n",
    "\n",
    "\n"
   ]
  }
 ],
 "metadata": {
  "kernelspec": {
   "display_name": "Python 3.9.12 64-bit",
   "language": "python",
   "name": "python3"
  },
  "language_info": {
   "codemirror_mode": {
    "name": "ipython",
    "version": 3
   },
   "file_extension": ".py",
   "mimetype": "text/x-python",
   "name": "python",
   "nbconvert_exporter": "python",
   "pygments_lexer": "ipython3",
   "version": "3.9.12"
  },
  "orig_nbformat": 4,
  "vscode": {
   "interpreter": {
    "hash": "aee8b7b246df8f9039afb4144a1f6fd8d2ca17a180786b69acc140d282b71a49"
   }
  }
 },
 "nbformat": 4,
 "nbformat_minor": 2
}
