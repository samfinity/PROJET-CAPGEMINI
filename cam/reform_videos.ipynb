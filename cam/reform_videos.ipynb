{
 "cells": [
  {
   "cell_type": "markdown",
   "metadata": {},
   "source": [
    "# Code pour reformater les vidéos au même nombre de frames pour faciliter l'extraction et le traitement"
   ]
  },
  {
   "cell_type": "markdown",
   "metadata": {},
   "source": [
    "# 1. Imports"
   ]
  },
  {
   "cell_type": "code",
   "execution_count": 41,
   "metadata": {},
   "outputs": [],
   "source": [
    "import cv2\n",
    "import os\n",
    "import numpy as np\n",
    "from os.path import isfile, join\n",
    "from moviepy.editor import VideoFileClip"
   ]
  },
  {
   "cell_type": "markdown",
   "metadata": {},
   "source": [
    "# 2. Paramétrer les dossiers"
   ]
  },
  {
   "cell_type": "markdown",
   "metadata": {},
   "source": [
    "Paramètres de bases"
   ]
  },
  {
   "cell_type": "code",
   "execution_count": 42,
   "metadata": {},
   "outputs": [],
   "source": [
    "path = '../mots/' #path vers le dossier des mots\n",
    "data_path = 'new_videos/'\n",
    "mots=np.array(['adresse','affaire']) #choix des mots\n",
    "nb_videos=20 #nb de vidéos par mot"
   ]
  },
  {
   "cell_type": "markdown",
   "metadata": {},
   "source": [
    "Calculer le nombre d'images moyen par vidéo pour avoir la référence"
   ]
  },
  {
   "cell_type": "code",
   "execution_count": 43,
   "metadata": {},
   "outputs": [
    {
     "name": "stdout",
     "output_type": "stream",
     "text": [
      "20\n"
     ]
    }
   ],
   "source": [
    "count=0\n",
    "fichier =list([])\n",
    "for mot in mots:\n",
    "    fichier1=[]\n",
    "    i=0\n",
    "    for f in os.listdir(path):\n",
    "        if i<nb_videos:\n",
    "            file_name, file_ext = os.path.splitext(f)\n",
    "            testmot = file_name.split('-')\n",
    "            if (testmot[0]==mot):\n",
    "                fichier1 += [path + file_name + file_ext]\n",
    "                i+=1\n",
    "    fichier.append(fichier1)\n",
    "rang_mot=0\n",
    "for mot in mots:\n",
    "    for f in fichier[rang_mot]:\n",
    "        cap = cv2.VideoCapture(f)\n",
    "        length = int(cap.get(cv2.CAP_PROP_FRAME_COUNT))\n",
    "        count=count+length\n",
    "    rang_mot+=1\n",
    "moy=count/(len(fichier)*nb_videos)\n",
    "nb_frame=int(moy)#nombre d'images par vidéos\n",
    "print(nb_frame)"
   ]
  },
  {
   "cell_type": "markdown",
   "metadata": {},
   "source": [
    "Création des dossiers pour le stockage des images & vidéos"
   ]
  },
  {
   "cell_type": "code",
   "execution_count": 54,
   "metadata": {},
   "outputs": [],
   "source": [
    "for mot in mots: \n",
    "    for vid in range(nb_videos):\n",
    "        try: \n",
    "            os.makedirs(os.path.join(data_path, mot, str(vid)))\n",
    "        except:\n",
    "            pass"
   ]
  },
  {
   "cell_type": "markdown",
   "metadata": {},
   "source": [
    "# 3. Code"
   ]
  },
  {
   "cell_type": "markdown",
   "metadata": {},
   "source": [
    "Fonction intermédiaire pour plus tard calculer le framerate nécessaire à l'obtention du bon nombre de frames"
   ]
  },
  {
   "cell_type": "code",
   "execution_count": 45,
   "metadata": {},
   "outputs": [],
   "source": [
    "def duree_et_longueurCV(video):\n",
    "\n",
    "    duree = video.get(cv2.CAP_PROP_POS_MSEC)\n",
    "    longueur = video.get(cv2.CAP_PROP_FRAME_COUNT)\n",
    "\n",
    "    return duree, longueur\n",
    "def dureeMPY(file):\n",
    "    clip = VideoFileClip(file)\n",
    "    return clip.duration"
   ]
  },
  {
   "cell_type": "markdown",
   "metadata": {},
   "source": [
    "Fonction pour stocker une image"
   ]
  },
  {
   "cell_type": "code",
   "execution_count": 46,
   "metadata": {},
   "outputs": [],
   "source": [
    "def getFrame(vidcap,sec,rang_video,count):\n",
    "            vidcap.set(cv2.CAP_PROP_POS_MSEC,sec*1000)\n",
    "            hasFrames,image = vidcap.read()\n",
    "            if hasFrames:\n",
    "                if count<10:\n",
    "                    numero = '0' + str(count)\n",
    "                else :\n",
    "                    numero = str(count)\n",
    "                cv2.imwrite(data_path+mot+'/'+str(rang_video)+'/image'+numero+\".jpg\", image)     # save frame as JPG file\n",
    "            return hasFrames"
   ]
  },
  {
   "cell_type": "markdown",
   "metadata": {},
   "source": [
    "Convertir un .avi en .mp4 pour respecter le format donné (inutile au final)"
   ]
  },
  {
   "cell_type": "code",
   "execution_count": 47,
   "metadata": {},
   "outputs": [],
   "source": [
    "def convert_avi_to_mp4(avi_file_path, output_name):\n",
    "    os.popen(\"ffmpeg -i '{input}' -ac 2 -b:v 2000k -c:a aac -c:v libx264 -b:a 160k -vprofile high -bf 0 -strict experimental -f mp4 '{output}.mp4'\".format(input = avi_file_path, output = output_name))\n",
    "    return True"
   ]
  },
  {
   "cell_type": "markdown",
   "metadata": {},
   "source": [
    "Fonction pour trouver le bon framerate afin d'extraire le bon nombre d'images"
   ]
  },
  {
   "cell_type": "code",
   "execution_count": 48,
   "metadata": {},
   "outputs": [],
   "source": [
    "def load_video_and_find_framerate(fichier,nb_frame):\n",
    "    video = cv2.VideoCapture(f)\n",
    "    duree = dureeMPY(fichier)\n",
    "    fr=video.get(cv2.CAP_PROP_FPS)\n",
    "    if fr!=25:\n",
    "        video.set(cv2.CAP_PROP_FPS, 25)\n",
    "        duree = (25*duree)/fr\n",
    "        fr=25\n",
    "    framerate = (duree/fr)*(fr/nb_frame)\n",
    "    #print(fr,duree,framerate)\n",
    "    return video, framerate"
   ]
  },
  {
   "cell_type": "markdown",
   "metadata": {},
   "source": [
    "Code pour stocker automatiquement toutes les images des mots nous intéressants"
   ]
  },
  {
   "cell_type": "code",
   "execution_count": 55,
   "metadata": {},
   "outputs": [],
   "source": [
    "rang_mot=0\n",
    "for mot in mots:\n",
    "    #print(mot)\n",
    "    rang_video=0\n",
    "    for f in fichier[rang_mot]:\n",
    "        #print(f)\n",
    "        sec = 0\n",
    "        count=1\n",
    "        vidcap, framerate = load_video_and_find_framerate(f,nb_frame)\n",
    "        success = getFrame(vidcap,sec,rang_video,count)\n",
    "        while success:\n",
    "            count = count + 1\n",
    "            sec = sec + framerate\n",
    "            success = getFrame(vidcap,sec,rang_video,count)\n",
    "        #print(len(os.listdir(data_path+mot+'/'+str(rang_video)+'/')))\n",
    "        rang_video+=1\n",
    "    rang_mot+=1"
   ]
  },
  {
   "cell_type": "markdown",
   "metadata": {},
   "source": [
    "Code pour fusionner nos images en nouvelles vidéos avec le bon nombre de frame"
   ]
  },
  {
   "cell_type": "code",
   "execution_count": 61,
   "metadata": {},
   "outputs": [],
   "source": [
    "for mot in mots:\n",
    "    rang_video=0\n",
    "    for j in range (nb_videos):\n",
    "        pathIn= data_path + mot + '/' + str(rang_video) + '/'\n",
    "        pathtodelete=data_path + mot + '/' + str(rang_video)\n",
    "        pathOut = data_path + mot + '/' + mot + '-' + str(rang_video) + '.mp4'\n",
    "        fps = 10\n",
    "        frame_array = []\n",
    "        files = [f for f in os.listdir(pathIn) if isfile(join(pathIn, f))]\n",
    "        files.sort()\n",
    "        for i in range(len(files)):\n",
    "            img = cv2.imread(pathIn + files[i])\n",
    "            height, width, layers = img.shape\n",
    "            size = (width,height)\n",
    "            frame_array.append(img) #insérer une nouvelle image dans la vidéo\n",
    "        out = cv2.VideoWriter(pathOut,cv2.VideoWriter_fourcc(*'mp4v'), fps, size)\n",
    "        for i in range(len(frame_array)):\n",
    "            #écriture de la vidéo\n",
    "            out.write(frame_array[i])\n",
    "        out.release()\n",
    "        #supprimer tous les fichiers images maintenant inutiles\n",
    "        # for f in files:\n",
    "        #     os.remove(pathIn+f)\n",
    "        # os.rmdir(pathtodelete)\n",
    "        rang_video+=1"
   ]
  }
 ],
 "metadata": {
  "kernelspec": {
   "display_name": "Python 3.8.10 64-bit",
   "language": "python",
   "name": "python3"
  },
  "language_info": {
   "codemirror_mode": {
    "name": "ipython",
    "version": 3
   },
   "file_extension": ".py",
   "mimetype": "text/x-python",
   "name": "python",
   "nbconvert_exporter": "python",
   "pygments_lexer": "ipython3",
   "version": "3.8.10"
  },
  "orig_nbformat": 4,
  "vscode": {
   "interpreter": {
    "hash": "916dbcbb3f70747c44a77c7bcd40155683ae19c65e1c03b4aa3499c5328201f1"
   }
  }
 },
 "nbformat": 4,
 "nbformat_minor": 2
}
